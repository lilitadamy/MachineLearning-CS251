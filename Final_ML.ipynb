{
  "nbformat": 4,
  "nbformat_minor": 0,
  "metadata": {
    "colab": {
      "name": "Final_ML.ipynb",
      "provenance": []
    },
    "kernelspec": {
      "name": "python3",
      "display_name": "Python 3"
    }
  },
  "cells": [
    {
      "cell_type": "code",
      "metadata": {
        "id": "lgqQWD_3Lo0m",
        "colab_type": "code",
        "colab": {
          "base_uri": "https://localhost:8080/",
          "height": 70
        },
        "outputId": "b695f4f3-049e-4cc7-ae9e-0a394a5a407f"
      },
      "source": [
        "import numpy as np\n",
        "import pandas as pd\n",
        "import matplotlib.pyplot as plt\n",
        "from sklearn import tree\n",
        "from sklearn.model_selection import train_test_split\n",
        "from sklearn.datasets import make_regression\n",
        "from sklearn.datasets import make_gaussian_quantiles\n",
        "from sklearn.model_selection import cross_val_score\n",
        "from sklearn.ensemble import GradientBoostingRegressor\n",
        "from sklearn.ensemble import RandomForestRegressor\n",
        "from sklearn.ensemble import AdaBoostRegressor\n",
        "from sklearn.preprocessing import LabelEncoder\n",
        "import seaborn as sns\n",
        "from sklearn.model_selection import train_test_split, KFold, cross_val_score\n",
        "from sklearn import svm\n",
        "\n",
        "from sklearn.metrics import auc, confusion_matrix, classification_report, precision_score, roc_curve\n",
        "from sklearn.metrics import roc_auc_score, precision_recall_curve, average_precision_score, plot_confusion_matrix\n",
        "from sklearn.metrics import plot_roc_curve, plot_confusion_matrix, plot_precision_recall_curve\n",
        "from sklearn.calibration import CalibratedClassifierCV\n",
        "from sklearn.model_selection import GridSearchCV"
      ],
      "execution_count": 2,
      "outputs": [
        {
          "output_type": "stream",
          "text": [
            "/usr/local/lib/python3.6/dist-packages/statsmodels/tools/_testing.py:19: FutureWarning: pandas.util.testing is deprecated. Use the functions in the public API at pandas.testing instead.\n",
            "  import pandas.util.testing as tm\n"
          ],
          "name": "stderr"
        }
      ]
    },
    {
      "cell_type": "code",
      "metadata": {
        "id": "MXmnl7R2Ltvi",
        "colab_type": "code",
        "colab": {}
      },
      "source": [
        "import pandas as pd\n",
        "import numpy as np\n",
        "import seaborn as sns\n",
        "import matplotlib.pyplot as plt\n",
        "import warnings\n",
        "import statsmodels.api as sm\n",
        "\n",
        "# from scikitplot.metrics import plot_roc, plot_precision_recall\n",
        "from sklearn.datasets import make_classification, make_blobs\n",
        "from sklearn.linear_model import LogisticRegression, LogisticRegressionCV\n",
        "from sklearn.neighbors import KNeighborsClassifier\n",
        "from sklearn.discriminant_analysis import LinearDiscriminantAnalysis, QuadraticDiscriminantAnalysis\n",
        "from sklearn.model_selection import train_test_split, GridSearchCV, KFold, cross_val_score\n",
        "from sklearn.metrics import confusion_matrix, classification_report, plot_roc_curve, roc_curve, auc, roc_auc_score, plot_precision_recall_curve\n",
        "from mlxtend.plotting import plot_decision_regions\n",
        "\n",
        "plt.style.use(\"seaborn-white\")\n",
        "warnings.filterwarnings('ignore')"
      ],
      "execution_count": 0,
      "outputs": []
    },
    {
      "cell_type": "code",
      "metadata": {
        "id": "tveu2zb_MbJz",
        "colab_type": "code",
        "colab": {}
      },
      "source": [
        "X_1, y_1 =make_classification(n_samples=5000, n_features=5, n_informative=3, n_clusters_per_class=1, random_state=97, class_sep=2, flip_y=0.1, n_classes=5)"
      ],
      "execution_count": 0,
      "outputs": []
    },
    {
      "cell_type": "code",
      "metadata": {
        "id": "YkKcLWofNHv-",
        "colab_type": "code",
        "colab": {}
      },
      "source": [
        "X_1_train, X_1_test, y_1_train, y_1_test = train_test_split(X_1,y_1,test_size = 0.3)"
      ],
      "execution_count": 0,
      "outputs": []
    },
    {
      "cell_type": "code",
      "metadata": {
        "id": "DvRxkAagPXX_",
        "colab_type": "code",
        "colab": {}
      },
      "source": [
        "from sklearn.tree import DecisionTreeClassifier"
      ],
      "execution_count": 0,
      "outputs": []
    },
    {
      "cell_type": "code",
      "metadata": {
        "id": "BMSlD-3cOfkY",
        "colab_type": "code",
        "colab": {
          "base_uri": "https://localhost:8080/",
          "height": 1000
        },
        "outputId": "6335ce7b-ce1f-4a13-905d-ce56877b8459"
      },
      "source": [
        "test_accs = []\n",
        "train_accs = []\n",
        "l = np.linspace(0.00000001, 0.01 , 25)\n",
        "for j in l:\n",
        "  \n",
        "    mod_tree = DecisionTreeClassifier(ccp_alpha = j)\n",
        "    mod_tree.fit(X_1_train,y_1_train)\n",
        "    accuracy_test = mod_tree.score(X_1_test,y_1_test)\n",
        "    test_accs.append(accuracy_test )\n",
        "    accuracy_train = mod_tree.score(X_1_train,y_1_train)\n",
        "    train_accs.append(accuracy_train)\n",
        "\n",
        "    print(\"j:\", j)\n",
        "    print(\"accuracy_test - > \", accuracy_test)\n",
        "    print(\"accuracy_train - > \", accuracy_train)"
      ],
      "execution_count": 35,
      "outputs": [
        {
          "output_type": "stream",
          "text": [
            "j: 1e-08\n",
            "accuracy_test - >  0.818\n",
            "accuracy_train - >  1.0\n",
            "j: 0.00041667625\n",
            "accuracy_test - >  0.8753333333333333\n",
            "accuracy_train - >  0.922\n",
            "j: 0.0008333425000000001\n",
            "accuracy_test - >  0.8926666666666667\n",
            "accuracy_train - >  0.9037142857142857\n",
            "j: 0.00125000875\n",
            "accuracy_test - >  0.8933333333333333\n",
            "accuracy_train - >  0.9008571428571429\n",
            "j: 0.001666675\n",
            "accuracy_test - >  0.8906666666666667\n",
            "accuracy_train - >  0.8982857142857142\n",
            "j: 0.00208334125\n",
            "accuracy_test - >  0.892\n",
            "accuracy_train - >  0.8974285714285715\n",
            "j: 0.0025000075\n",
            "accuracy_test - >  0.892\n",
            "accuracy_train - >  0.8974285714285715\n",
            "j: 0.0029166737500000003\n",
            "accuracy_test - >  0.8913333333333333\n",
            "accuracy_train - >  0.8968571428571429\n",
            "j: 0.00333334\n",
            "accuracy_test - >  0.8873333333333333\n",
            "accuracy_train - >  0.8951428571428571\n",
            "j: 0.00375000625\n",
            "accuracy_test - >  0.8846666666666667\n",
            "accuracy_train - >  0.8931428571428571\n",
            "j: 0.0041666725\n",
            "accuracy_test - >  0.8846666666666667\n",
            "accuracy_train - >  0.8931428571428571\n",
            "j: 0.004583338750000001\n",
            "accuracy_test - >  0.8846666666666667\n",
            "accuracy_train - >  0.8931428571428571\n",
            "j: 0.005000005\n",
            "accuracy_test - >  0.8846666666666667\n",
            "accuracy_train - >  0.8931428571428571\n",
            "j: 0.00541667125\n",
            "accuracy_test - >  0.8846666666666667\n",
            "accuracy_train - >  0.8931428571428571\n",
            "j: 0.005833337500000001\n",
            "accuracy_test - >  0.8846666666666667\n",
            "accuracy_train - >  0.8931428571428571\n",
            "j: 0.00625000375\n",
            "accuracy_test - >  0.8846666666666667\n",
            "accuracy_train - >  0.8931428571428571\n",
            "j: 0.00666667\n",
            "accuracy_test - >  0.8846666666666667\n",
            "accuracy_train - >  0.8931428571428571\n",
            "j: 0.007083336250000001\n",
            "accuracy_test - >  0.8826666666666667\n",
            "accuracy_train - >  0.8902857142857142\n",
            "j: 0.0075000025\n",
            "accuracy_test - >  0.8806666666666667\n",
            "accuracy_train - >  0.886\n",
            "j: 0.007916668750000001\n",
            "accuracy_test - >  0.8806666666666667\n",
            "accuracy_train - >  0.886\n",
            "j: 0.008333335\n",
            "accuracy_test - >  0.8806666666666667\n",
            "accuracy_train - >  0.886\n",
            "j: 0.00875000125\n",
            "accuracy_test - >  0.8806666666666667\n",
            "accuracy_train - >  0.886\n",
            "j: 0.009166667500000001\n",
            "accuracy_test - >  0.8806666666666667\n",
            "accuracy_train - >  0.886\n",
            "j: 0.00958333375\n",
            "accuracy_test - >  0.8806666666666667\n",
            "accuracy_train - >  0.886\n",
            "j: 0.01\n",
            "accuracy_test - >  0.8806666666666667\n",
            "accuracy_train - >  0.886\n",
            "3\n"
          ],
          "name": "stdout"
        }
      ]
    },
    {
      "cell_type": "code",
      "metadata": {
        "id": "TcGm9gb7ZdgL",
        "colab_type": "code",
        "colab": {
          "base_uri": "https://localhost:8080/",
          "height": 34
        },
        "outputId": "c8c92860-7f11-4734-c2a8-9985e9a5f524"
      },
      "source": [
        "print(\"cpp :\", l[np.argmax(test_accs)] , \"  max test acc -> \", np.max(test_accs))"
      ],
      "execution_count": 49,
      "outputs": [
        {
          "output_type": "stream",
          "text": [
            "cpp : 0.00125000875   max test acc ->  0.8933333333333333\n"
          ],
          "name": "stdout"
        }
      ]
    },
    {
      "cell_type": "code",
      "metadata": {
        "id": "XZ0eCcTAYbAL",
        "colab_type": "code",
        "colab": {
          "base_uri": "https://localhost:8080/",
          "height": 543
        },
        "outputId": "42eb7cf2-feb4-4e9b-b1c5-e39053680d6d"
      },
      "source": [
        "plt.figure(figsize = (4,4)) \n",
        "plt.plot(l, test_accs)\n",
        "plt.xlabel(\"cpp\", fontsize = 15)\n",
        "plt.ylabel(\"Accuracy test scores\", fontsize = 15)\n",
        "plt.figure(figsize = (4,4)) \n",
        "plt.plot(l, train_accs)\n",
        "plt.xlabel(\"cpp\", fontsize = 15)\n",
        "plt.ylabel(\"Accuracy train scores\", fontsize = 15)\n",
        "plt.show()"
      ],
      "execution_count": 42,
      "outputs": [
        {
          "output_type": "display_data",
          "data": {
            "image/png": "[encoded data removed]",
            "text/plain": [
              "<Figure size 288x288 with 1 Axes>"
            ]
          },
          "metadata": {
            "tags": []
          }
        },
        {
          "output_type": "display_data",
          "data": {
            "image/png": "[encoded data removed]",
            "text/plain": [
              "<Figure size 288x288 with 1 Axes>"
            ]
          },
          "metadata": {
            "tags": []
          }
        }
      ]
    },
    {
      "cell_type": "code",
      "metadata": {
        "id": "unIYg84-PAfK",
        "colab_type": "code",
        "colab": {}
      },
      "source": [
        "# maxt test accuracy is for ccp_alpha = 0.00125000875\n",
        "# optimal val is ccp_alpha = 0.00125000875\n",
        "# cpp: 0.00125000875\n",
        "# accuracy_test - >  0.8933333333333333\n",
        "# accuracy_train - >  0.9008571428571429"
      ],
      "execution_count": 0,
      "outputs": []
    },
    {
      "cell_type": "code",
      "metadata": {
        "id": "ROzqs181XDdU",
        "colab_type": "code",
        "colab": {
          "base_uri": "https://localhost:8080/",
          "height": 454
        },
        "outputId": "aa2bc9a0-b18c-42a1-a7c7-7c76c6c3d1d7"
      },
      "source": [
        "Class_A = DecisionTreeClassifier(ccp_alpha = 0.00125000875)\n",
        "\n",
        "Class_A.fit(X_1_train, y_1_train)\n",
        "\n",
        "train_score = Class_A.score(X_1_train, y_1_train)\n",
        "test_score = Class_A.score(X_1_test, y_1_test)\n",
        "\n",
        "print(\"Train score:\", train_score)\n",
        "print(\"Test score:\", test_score)\n",
        "\n",
        "A_train_pred = Class_A.predict(X_1_train)\n",
        "A_test_pred = Class_A.predict(X_1_test)\n",
        "\n",
        "print(classification_report(y_1_train, A_train_pred))\n",
        "print(classification_report(y_1_test, A_test_pred))"
      ],
      "execution_count": 50,
      "outputs": [
        {
          "output_type": "stream",
          "text": [
            "Train score: 0.9008571428571429\n",
            "Test score: 0.8933333333333333\n",
            "              precision    recall  f1-score   support\n",
            "\n",
            "           0       0.90      0.90      0.90       693\n",
            "           1       0.89      0.90      0.90       706\n",
            "           2       0.91      0.90      0.90       690\n",
            "           3       0.91      0.91      0.91       696\n",
            "           4       0.90      0.90      0.90       715\n",
            "\n",
            "    accuracy                           0.90      3500\n",
            "   macro avg       0.90      0.90      0.90      3500\n",
            "weighted avg       0.90      0.90      0.90      3500\n",
            "\n",
            "              precision    recall  f1-score   support\n",
            "\n",
            "           0       0.90      0.92      0.91       314\n",
            "           1       0.87      0.87      0.87       289\n",
            "           2       0.89      0.88      0.88       307\n",
            "           3       0.91      0.89      0.90       301\n",
            "           4       0.90      0.91      0.90       289\n",
            "\n",
            "    accuracy                           0.89      1500\n",
            "   macro avg       0.89      0.89      0.89      1500\n",
            "weighted avg       0.89      0.89      0.89      1500\n",
            "\n"
          ],
          "name": "stdout"
        }
      ]
    },
    {
      "cell_type": "code",
      "metadata": {
        "id": "bycdw_AQcCYx",
        "colab_type": "code",
        "colab": {}
      },
      "source": [
        "# for class 0 it hes the best caracteristics"
      ],
      "execution_count": 0,
      "outputs": []
    },
    {
      "cell_type": "code",
      "metadata": {
        "id": "j5pW3_8NfmiL",
        "colab_type": "code",
        "colab": {}
      },
      "source": [
        ""
      ],
      "execution_count": 0,
      "outputs": []
    },
    {
      "cell_type": "code",
      "metadata": {
        "id": "3LA64KtffmlJ",
        "colab_type": "code",
        "colab": {}
      },
      "source": [
        ""
      ],
      "execution_count": 0,
      "outputs": []
    },
    {
      "cell_type": "code",
      "metadata": {
        "id": "HA8Gu7Aqfmoo",
        "colab_type": "code",
        "colab": {}
      },
      "source": [
        "X_2, y_2 = make_regression(n_samples =5000, n_features = 20, n_informative = 3, random_state = 97, noise = 10)"
      ],
      "execution_count": 0,
      "outputs": []
    },
    {
      "cell_type": "code",
      "metadata": {
        "id": "_jWA-xVgfsEn",
        "colab_type": "code",
        "colab": {}
      },
      "source": [
        "X_2_train, X_2_test, y_2_train, y_2_test = train_test_split(X_2,y_2,test_size = 0.3, random_state = 0)"
      ],
      "execution_count": 0,
      "outputs": []
    },
    {
      "cell_type": "code",
      "metadata": {
        "id": "L2WBISSSf6Cj",
        "colab_type": "code",
        "colab": {
          "base_uri": "https://localhost:8080/",
          "height": 605
        },
        "outputId": "d6cc59f4-309f-4033-d2ac-45ce84b89606"
      },
      "source": [
        "\n",
        "train_accs = []\n",
        "test_accs = []\n",
        "gamma_grid = [0.000001, 0.0001, 0.01, 0.1, 1, 10, 100]\n",
        "c_param_grid = np.linspace(0.001, 100, 7)\n",
        "\n",
        "\n",
        "for i in range (7):\n",
        "  class_svr = svm.SVR(kernel = \"rbf\", C = c_param_grid[i],gamma = gamma_grid[i] )\n",
        "  class_svr.fit(X_2_train,y_2_train)\n",
        "  accuracy_test = class_svr.score(X_2_test,y_2_test)\n",
        "  test_accs.append(accuracy_test )\n",
        "  accuracy_train = class_svr.score(X_2_train,y_2_train)\n",
        "  train_accs.append(accuracy_train)\n",
        "\n",
        "  print(i, \"---\")\n",
        "  print(\"gamma:\", gamma_grid[i] )\n",
        "  print(\"C:\", c_param_grid[i])\n",
        "  print(\"accuracy_test - > \", accuracy_test)\n",
        "  print(\"accuracy_train - > \", accuracy_train)\n",
        "\n"
      ],
      "execution_count": 61,
      "outputs": [
        {
          "output_type": "stream",
          "text": [
            "0 ---\n",
            "gamma: 1e-06\n",
            "C: 0.001\n",
            "accuracy_test - >  -7.666123103322597e-05\n",
            "accuracy_train - >  -0.0006127958493273855\n",
            "1 ---\n",
            "gamma: 0.0001\n",
            "C: 16.6675\n",
            "accuracy_test - >  0.18281286686718132\n",
            "accuracy_train - >  0.18273501411442017\n",
            "2 ---\n",
            "gamma: 0.01\n",
            "C: 33.333999999999996\n",
            "accuracy_test - >  0.9838325801611089\n",
            "accuracy_train - >  0.9869602524097671\n",
            "3 ---\n",
            "gamma: 0.1\n",
            "C: 50.000499999999995\n",
            "accuracy_test - >  0.8642990197733197\n",
            "accuracy_train - >  0.9617870966004969\n",
            "4 ---\n",
            "gamma: 1\n",
            "C: 66.667\n",
            "accuracy_test - >  -0.0005179188962372017\n",
            "accuracy_train - >  0.7163108244158788\n",
            "5 ---\n",
            "gamma: 10\n",
            "C: 83.3335\n",
            "accuracy_test - >  -0.00097446063072959\n",
            "accuracy_train - >  0.8019969199178794\n",
            "6 ---\n",
            "gamma: 100\n",
            "C: 100.0\n",
            "accuracy_test - >  -0.0011088421508302915\n",
            "accuracy_train - >  0.864336018649029\n"
          ],
          "name": "stdout"
        }
      ]
    },
    {
      "cell_type": "code",
      "metadata": {
        "id": "ylU6d4K8hP4S",
        "colab_type": "code",
        "colab": {
          "base_uri": "https://localhost:8080/",
          "height": 34
        },
        "outputId": "bf290335-7e98-4b33-8dfe-11cca338abac"
      },
      "source": [
        "print(\"gamma :\", gamma_grid[np.argmax(test_accs)] , \"    C:\", c_param_grid[i],\"    max test acc -> \", np.max(test_accs))\n"
      ],
      "execution_count": 62,
      "outputs": [
        {
          "output_type": "stream",
          "text": [
            "gamma : 0.01     C: 100.0     max test acc ->  0.9838325801611089\n"
          ],
          "name": "stdout"
        }
      ]
    },
    {
      "cell_type": "code",
      "metadata": {
        "id": "Qvq46ShKkH9N",
        "colab_type": "code",
        "colab": {}
      },
      "source": [
        "# optimal -------\n",
        "# gamma: 0.01\n",
        "# C: 33.333999999999996\n",
        "# accuracy_test - >  0.9838325801611089\n",
        "# accuracy_train - >  0.9869602524097671"
      ],
      "execution_count": 0,
      "outputs": []
    },
    {
      "cell_type": "code",
      "metadata": {
        "id": "iaXz5EeBk8dV",
        "colab_type": "code",
        "colab": {
          "base_uri": "https://localhost:8080/",
          "height": 50
        },
        "outputId": "3ff796d5-60bf-44b1-bd80-f8a4d776448a"
      },
      "source": [
        "Reg_Full = svm.SVR(kernel = \"rbf\", C = 33.333999999999996, gamma = 0.01 )\n",
        "Reg_Full.fit(X_2_train,y_2_train)\n",
        "\n",
        "train_score = Reg_Full.score(X_2_train, y_2_train)\n",
        "test_score = Reg_Full.score(X_2_test, y_2_test)\n",
        "\n",
        "print(\"Train score:\", train_score)\n",
        "print(\"Test score:\", test_score)\n"
      ],
      "execution_count": 69,
      "outputs": [
        {
          "output_type": "stream",
          "text": [
            "Train score: 0.9869602524097671\n",
            "Test score: 0.9838325801611089\n"
          ],
          "name": "stdout"
        }
      ]
    },
    {
      "cell_type": "code",
      "metadata": {
        "id": "7BoinBJ_sFc5",
        "colab_type": "code",
        "colab": {}
      },
      "source": [
        ""
      ],
      "execution_count": 0,
      "outputs": []
    },
    {
      "cell_type": "code",
      "metadata": {
        "id": "h5CAsmLasFjJ",
        "colab_type": "code",
        "colab": {}
      },
      "source": [
        ""
      ],
      "execution_count": 0,
      "outputs": []
    },
    {
      "cell_type": "code",
      "metadata": {
        "id": "eA5Lb_DYsFwG",
        "colab_type": "code",
        "colab": {}
      },
      "source": [
        ""
      ],
      "execution_count": 0,
      "outputs": []
    },
    {
      "cell_type": "code",
      "metadata": {
        "id": "X5vSBprrsFgp",
        "colab_type": "code",
        "colab": {}
      },
      "source": [
        "import numpy as np\n",
        "import pandas as pd\n",
        "from sklearn.preprocessing import scale\n",
        "from sklearn.decomposition import PCA\n",
        "import matplotlib.pyplot as plt\n",
        "import seaborn as sns\n",
        "%matplotlib inline\n",
        "\n",
        "from sklearn import datasets as dt\n",
        "from sklearn.cluster import KMeans\n",
        "from sklearn.cluster import MiniBatchKMeans\n",
        "from sklearn.datasets import make_blobs\n",
        "import time\n",
        "from sklearn.metrics import pairwise_distances_argmin\n",
        "import matplotlib.colors as mcolors\n",
        "from sklearn.preprocessing import MinMaxScaler"
      ],
      "execution_count": 0,
      "outputs": []
    },
    {
      "cell_type": "code",
      "metadata": {
        "id": "zSVBzwdSl4i7",
        "colab_type": "code",
        "colab": {
          "base_uri": "https://localhost:8080/",
          "height": 1000
        },
        "outputId": "7cbef1e4-9e8b-4ef3-9483-5d7484f8c03c"
      },
      "source": [
        "model_pca = PCA(n_components = 7)\n",
        "print(model_pca)\n",
        "# The loading vectors\n",
        "mod_pca = PCA()\n",
        "print(mod_pca)\n",
        "mod_pca_fit = mod_pca.fit(X_2)\n",
        "mod_pca_fit.components_"
      ],
      "execution_count": 77,
      "outputs": [
        {
          "output_type": "stream",
          "text": [
            "PCA(copy=True, iterated_power='auto', n_components=7, random_state=None,\n",
            "    svd_solver='auto', tol=0.0, whiten=False)\n",
            "PCA(copy=True, iterated_power='auto', n_components=None, random_state=None,\n",
            "    svd_solver='auto', tol=0.0, whiten=False)\n"
          ],
          "name": "stdout"
        },
        {
          "output_type": "execute_result",
          "data": {
            "text/plain": [
              "array([[-0.219029  ,  0.06925233,  0.36330767,  0.10889138,  0.22156793,\n",
              "         0.35132233,  0.20963889, -0.29869611,  0.1182204 , -0.27043343,\n",
              "         0.24011368,  0.27967001,  0.27056839,  0.16388388, -0.02204947,\n",
              "         0.13809286,  0.21729219,  0.1945295 ,  0.08605376, -0.25025786],\n",
              "       [ 0.21077261,  0.22665979,  0.27961483, -0.43352567, -0.13015342,\n",
              "        -0.10888786,  0.03953467,  0.16909751,  0.25606503,  0.20838057,\n",
              "         0.13394342,  0.29727746, -0.24707723,  0.29224789, -0.19690306,\n",
              "         0.07880702,  0.04002374,  0.29140472, -0.22892838,  0.18288576],\n",
              "       [ 0.25118774,  0.09023622,  0.24463479, -0.30099134,  0.12893518,\n",
              "         0.04204235, -0.08016879,  0.02577279, -0.15775394, -0.30693738,\n",
              "        -0.20246337,  0.12328302,  0.1729021 , -0.34047758,  0.12789213,\n",
              "        -0.30711241,  0.28746144, -0.25050329, -0.41912881, -0.00077269],\n",
              "       [ 0.0216409 ,  0.06731252,  0.13496501,  0.08227451, -0.16056504,\n",
              "         0.03333533,  0.01667567, -0.23650467,  0.28196091,  0.37203728,\n",
              "        -0.10495202,  0.36750584, -0.19563115, -0.04117232,  0.04975752,\n",
              "        -0.10798998, -0.04251164, -0.60390023,  0.14295135, -0.28614648],\n",
              "       [ 0.09478937,  0.15568583, -0.10031119, -0.23339015,  0.01707901,\n",
              "         0.0871241 ,  0.35750858, -0.03862272, -0.08047933, -0.09027087,\n",
              "        -0.7416674 ,  0.03148791, -0.00791815,  0.21364616,  0.13223451,\n",
              "         0.04851516, -0.13183447,  0.1811571 ,  0.23614261, -0.16691558],\n",
              "       [ 0.1599457 , -0.15654711, -0.05985004, -0.17983711, -0.18627221,\n",
              "        -0.17011783,  0.20902921, -0.21004219, -0.43038693,  0.3929955 ,\n",
              "         0.15971446, -0.12369339,  0.15720449,  0.15320353,  0.11255522,\n",
              "         0.08959417,  0.5363725 , -0.00467506,  0.06978537, -0.14347056],\n",
              "       [-0.21378533, -0.13296945, -0.22015305, -0.00592679,  0.24515285,\n",
              "         0.28403841,  0.30274487,  0.44446488,  0.15321478,  0.14204497,\n",
              "         0.08083485, -0.11054439, -0.32854704,  0.05658683,  0.19825778,\n",
              "        -0.17548732,  0.2241424 , -0.00161671, -0.27809762, -0.29478376],\n",
              "       [ 0.13389789, -0.46664609,  0.31547097, -0.04658949, -0.11860456,\n",
              "        -0.10057299,  0.00277789,  0.01177889,  0.06984384,  0.141343  ,\n",
              "         0.01715631, -0.10268592,  0.20963412, -0.04644996, -0.0266143 ,\n",
              "        -0.37897446, -0.38149787,  0.30133597, -0.06450775, -0.41431612],\n",
              "       [-0.12028361, -0.18511355,  0.00602556, -0.01550958, -0.26752232,\n",
              "        -0.21284787,  0.12687919,  0.22983998,  0.46322732, -0.21377103,\n",
              "        -0.19079187, -0.22229941,  0.34833814,  0.16945259, -0.32308696,\n",
              "         0.11399777,  0.28704798, -0.26167551, -0.0248733 , -0.01307833],\n",
              "       [-0.16074095, -0.00736247,  0.4472404 , -0.22443183, -0.2172189 ,\n",
              "         0.24143438,  0.08968086,  0.27114421, -0.23381974, -0.0173252 ,\n",
              "         0.11197832, -0.25401682,  0.01429686,  0.03730229,  0.2676773 ,\n",
              "         0.37562457, -0.30044645, -0.31260988,  0.015829  ,  0.04536696],\n",
              "       [-0.18812017,  0.01795966,  0.27034021,  0.22996962,  0.12479424,\n",
              "        -0.10328532,  0.2664397 ,  0.16259361,  0.01675317,  0.41967491,\n",
              "        -0.25116972,  0.09144122,  0.13136249, -0.55419136, -0.08587904,\n",
              "         0.19664151,  0.10539109,  0.20056434, -0.00847341,  0.21204322],\n",
              "       [ 0.1982465 , -0.07346883, -0.07732781, -0.06300195,  0.10200006,\n",
              "        -0.24634453, -0.2099331 ,  0.07164105,  0.40616146, -0.03804949,\n",
              "         0.05739676,  0.07938557,  0.13255011, -0.10891993,  0.68813358,\n",
              "         0.32426652,  0.06935488,  0.12810499,  0.11163963, -0.0851611 ],\n",
              "       [ 0.09260767, -0.06823887, -0.31839118, -0.40948351,  0.05679436,\n",
              "         0.3183837 ,  0.32583705, -0.30223461,  0.2933705 ,  0.13692652,\n",
              "         0.19876554, -0.12552715,  0.25208132, -0.24286626, -0.03574758,\n",
              "        -0.03850585, -0.21248632, -0.07326737, -0.00997269,  0.28217148],\n",
              "       [-0.14832742,  0.02482665,  0.09177469, -0.25276742, -0.05263388,\n",
              "         0.01389091, -0.03622356,  0.30213154,  0.00469402, -0.07927389,\n",
              "         0.14299952,  0.08277534, -0.01898362, -0.13282523,  0.03894664,\n",
              "        -0.43670848,  0.18935897,  0.03960203,  0.71168399,  0.14747697],\n",
              "       [-0.04468844, -0.03931009,  0.10341412, -0.12130594, -0.00868055,\n",
              "         0.48404289, -0.59187638, -0.12830071,  0.15215553,  0.26245611,\n",
              "        -0.27381509, -0.31648868, -0.04149801, -0.00491007, -0.08840959,\n",
              "         0.0689837 ,  0.2513061 ,  0.15028099,  0.04507027, -0.02510956],\n",
              "       [-0.29873908,  0.13126746, -0.220275  , -0.13498488, -0.64151408,\n",
              "         0.03670655, -0.01521922, -0.08817188, -0.01586429, -0.19628461,\n",
              "         0.04767983,  0.12958696, -0.13736474, -0.40149196,  0.0076143 ,\n",
              "         0.09925547,  0.04391375,  0.24158896, -0.12845277, -0.28508685],\n",
              "       [ 0.22630115, -0.4004118 ,  0.24559338,  0.14280266, -0.12394232,\n",
              "         0.03099796,  0.24248367, -0.27858263,  0.1223655 , -0.28204039,\n",
              "        -0.04963707, -0.16761163, -0.5572297 , -0.11111328,  0.07077706,\n",
              "         0.02593329,  0.16964186,  0.0529676 ,  0.07405557,  0.25365629],\n",
              "       [ 0.29094292,  0.28334925,  0.0516407 , -0.13849192,  0.2854759 ,\n",
              "        -0.15454679,  0.04997354,  0.03211786,  0.03896847, -0.08389051,\n",
              "         0.16364431, -0.34125186, -0.18877896, -0.29590157, -0.34730981,\n",
              "         0.23269319, -0.01194339, -0.0531094 ,  0.20745111, -0.45667868],\n",
              "       [-0.2119617 , -0.56705432, -0.12091782, -0.3692362 ,  0.28034667,\n",
              "        -0.08073069, -0.16120632,  0.0142535 , -0.16488123, -0.06810955,\n",
              "        -0.07919264,  0.38234579, -0.12471126, -0.06059189, -0.23546103,\n",
              "         0.30882477, -0.04066556, -0.09864497,  0.04879054, -0.05634136],\n",
              "       [ 0.57291658, -0.14392217, -0.15616949,  0.25678319, -0.21121656,\n",
              "         0.43703148,  0.00991415,  0.37238215, -0.09129979, -0.02883911,\n",
              "         0.04415479,  0.29187143,  0.13546948, -0.07154324, -0.15184857,\n",
              "         0.17040221,  0.02524984,  0.00833371,  0.1118905 , -0.0353985 ]])"
            ]
          },
          "metadata": {
            "tags": []
          },
          "execution_count": 77
        }
      ]
    },
    {
      "cell_type": "code",
      "metadata": {
        "id": "0glMn-IOl6kc",
        "colab_type": "code",
        "colab": {
          "base_uri": "https://localhost:8080/",
          "height": 84
        },
        "outputId": "06d55a4b-c1c4-4905-f676-fee1ea06435e"
      },
      "source": [
        "# Standard deviation of the four principal components\n",
        "np.sqrt(mod_pca.explained_variance_)"
      ],
      "execution_count": 78,
      "outputs": [
        {
          "output_type": "execute_result",
          "data": {
            "text/plain": [
              "array([1.04611536, 1.04304993, 1.03535514, 1.03293248, 1.03121611,\n",
              "       1.02115704, 1.01209331, 1.00599065, 1.00233777, 0.998433  ,\n",
              "       0.99570286, 0.99242914, 0.98915702, 0.9818315 , 0.97530952,\n",
              "       0.97286683, 0.96108638, 0.95871022, 0.95412209, 0.93934086])"
            ]
          },
          "metadata": {
            "tags": []
          },
          "execution_count": 78
        }
      ]
    },
    {
      "cell_type": "code",
      "metadata": {
        "id": "ahV1RyMktCJS",
        "colab_type": "code",
        "colab": {
          "base_uri": "https://localhost:8080/",
          "height": 84
        },
        "outputId": "542b1345-083f-44f8-d4ea-8ea6c3117cbb"
      },
      "source": [
        "np.cumsum(mod_pca.explained_variance_ratio_)"
      ],
      "execution_count": 79,
      "outputs": [
        {
          "output_type": "execute_result",
          "data": {
            "text/plain": [
              "array([0.05494514, 0.10956873, 0.16338937, 0.21695842, 0.2703496 ,\n",
              "       0.32270424, 0.37413361, 0.42494464, 0.47538734, 0.52543778,\n",
              "       0.57521489, 0.62466521, 0.67378998, 0.72218984, 0.76994882,\n",
              "       0.81746887, 0.86384505, 0.90999219, 0.95569869, 1.        ])"
            ]
          },
          "metadata": {
            "tags": []
          },
          "execution_count": 79
        }
      ]
    },
    {
      "cell_type": "code",
      "metadata": {
        "id": "6ud3xPKatO9Z",
        "colab_type": "code",
        "colab": {
          "base_uri": "https://localhost:8080/",
          "height": 330
        },
        "outputId": "3dca112f-3d66-4eac-92e3-a27bac027962"
      },
      "source": [
        "plt.figure(figsize=(7,5))\n",
        "\n",
        "plt.plot([1, 2, 3, 4,5, 6,7,8, 9, 10, 11, 12, 13, 14, 15, 16, 17, 18, 19, 20 ], mod_pca.explained_variance_ratio_, '-o', label='Individual component')\n",
        "plt.plot([1, 2, 3, 4,5, 6,7,8, 9, 10, 11, 12, 13, 14, 15, 16, 17, 18, 19, 20 ], np.cumsum(mod_pca.explained_variance_ratio_), '-s', label='Cumulative')\n",
        "\n",
        "plt.ylabel('Proportion of Variance Explained')\n",
        "plt.xlabel('Principal Component')\n",
        "plt.xlim(0.75,4.25)\n",
        "plt.ylim(0,1.05)\n",
        "plt.xticks([1, 2, 3, 4,5, 6,7,8, 9, 10, 11, 12, 13, 14, 15, 16, 17, 18, 19, 20 ])\n",
        "plt.legend(loc=2);"
      ],
      "execution_count": 87,
      "outputs": [
        {
          "output_type": "display_data",
          "data": {
            "image/png": "[encoded data removed]",
            "text/plain": [
              "<Figure size 504x360 with 1 Axes>"
            ]
          },
          "metadata": {
            "tags": [],
            "needs_background": "light"
          }
        }
      ]
    },
    {
      "cell_type": "code",
      "metadata": {
        "id": "DZbREqhQtTKh",
        "colab_type": "code",
        "colab": {}
      },
      "source": [
        "X_2_PCA_N = mod_pca_fit.components_[:7]"
      ],
      "execution_count": 0,
      "outputs": []
    },
    {
      "cell_type": "code",
      "metadata": {
        "id": "HZCCq2_Bu0rD",
        "colab_type": "code",
        "colab": {}
      },
      "source": [
        ""
      ],
      "execution_count": 0,
      "outputs": []
    },
    {
      "cell_type": "code",
      "metadata": {
        "id": "90mDROYSu35J",
        "colab_type": "code",
        "colab": {}
      },
      "source": [
        ""
      ],
      "execution_count": 0,
      "outputs": []
    }
  ]
}